{
 "cells": [
  {
   "cell_type": "code",
   "execution_count": 35,
   "metadata": {},
   "outputs": [],
   "source": [
    "import pandas as pd\n",
    "import numpy as np\n",
    "import statistics \n",
    "import matplotlib.pyplot as plt\n",
    "from read_path_module import read_data_relative_path\n",
    "from write_path_module import write_data_relative_path\n",
    "\n",
    "import matplotlib.pyplot as plt\n",
    "\n",
    "SMALL_SIZE = 8\n",
    "MEDIUM_SIZE = 10\n",
    "BIGGER_SIZE = 12\n",
    "\n",
    "plt.rc('font', size=SMALL_SIZE)          # controls default text sizes\n",
    "plt.rc('axes', titlesize=SMALL_SIZE)     # fontsize of the axes title\n",
    "plt.rc('axes', labelsize=MEDIUM_SIZE)    # fontsize of the x and y labels\n",
    "plt.rc('xtick', labelsize=SMALL_SIZE)    # fontsize of the tick labels\n",
    "plt.rc('ytick', labelsize=SMALL_SIZE)    # fontsize of the tick labels\n",
    "plt.rc('legend', fontsize=SMALL_SIZE)    # legend fontsize\n",
    "plt.rc('figure', titlesize=BIGGER_SIZE)  # fontsize of the figure title"
   ]
  },
  {
   "cell_type": "markdown",
   "metadata": {},
   "source": [
    "### - Read in and trim the dataset"
   ]
  },
  {
   "cell_type": "code",
   "execution_count": 88,
   "metadata": {},
   "outputs": [
    {
     "data": {
      "text/html": [
       "<div>\n",
       "<style scoped>\n",
       "    .dataframe tbody tr th:only-of-type {\n",
       "        vertical-align: middle;\n",
       "    }\n",
       "\n",
       "    .dataframe tbody tr th {\n",
       "        vertical-align: top;\n",
       "    }\n",
       "\n",
       "    .dataframe thead th {\n",
       "        text-align: right;\n",
       "    }\n",
       "</style>\n",
       "<table border=\"1\" class=\"dataframe\">\n",
       "  <thead>\n",
       "    <tr style=\"text-align: right;\">\n",
       "      <th></th>\n",
       "      <th>Date/Season</th>\n",
       "      <th>Winning team</th>\n",
       "      <th>Winning Zip</th>\n",
       "      <th>Winning County</th>\n",
       "      <th>Winning State</th>\n",
       "      <th>Winning County Code</th>\n",
       "      <th>Losing team</th>\n",
       "      <th>Losing Zip</th>\n",
       "      <th>Losing County</th>\n",
       "      <th>Losing State</th>\n",
       "      <th>Losing County Code</th>\n",
       "    </tr>\n",
       "  </thead>\n",
       "  <tbody>\n",
       "    <tr>\n",
       "      <th>0</th>\n",
       "      <td>February 3, 2002 (2001)</td>\n",
       "      <td>New England PatriotsA</td>\n",
       "      <td>2201</td>\n",
       "      <td>SUFFOLK</td>\n",
       "      <td>MASSACHUSETTS</td>\n",
       "      <td>25025</td>\n",
       "      <td>St. Louis RamsN</td>\n",
       "      <td>63101</td>\n",
       "      <td>Saint Louis City</td>\n",
       "      <td>Missouri</td>\n",
       "      <td>29510</td>\n",
       "    </tr>\n",
       "    <tr>\n",
       "      <th>1</th>\n",
       "      <td>January 26, 2003 (2002)</td>\n",
       "      <td>Tampa Bay BuccaneersN</td>\n",
       "      <td>33602</td>\n",
       "      <td>HILLSBOROUGH</td>\n",
       "      <td>FLORIDA</td>\n",
       "      <td>12057</td>\n",
       "      <td>Oakland RaidersA</td>\n",
       "      <td>94612</td>\n",
       "      <td>ALAMEDA</td>\n",
       "      <td>CALIFORNIA</td>\n",
       "      <td>6001</td>\n",
       "    </tr>\n",
       "    <tr>\n",
       "      <th>2</th>\n",
       "      <td>February 1, 2004 (2003)</td>\n",
       "      <td>New England PatriotsA</td>\n",
       "      <td>2201</td>\n",
       "      <td>SUFFOLK</td>\n",
       "      <td>MASSACHUSETTS</td>\n",
       "      <td>25025</td>\n",
       "      <td>Carolina PanthersN</td>\n",
       "      <td>28202</td>\n",
       "      <td>MECKLENBURG</td>\n",
       "      <td>NORTH CAROLINA</td>\n",
       "      <td>37119</td>\n",
       "    </tr>\n",
       "    <tr>\n",
       "      <th>3</th>\n",
       "      <td>February 6, 2005 (2004)</td>\n",
       "      <td>New England PatriotsA</td>\n",
       "      <td>2201</td>\n",
       "      <td>SUFFOLK</td>\n",
       "      <td>MASSACHUSETTS</td>\n",
       "      <td>25025</td>\n",
       "      <td>Philadelphia EaglesN</td>\n",
       "      <td>19102</td>\n",
       "      <td>PHILADELPHIA</td>\n",
       "      <td>PENNSYLVANIA</td>\n",
       "      <td>42101</td>\n",
       "    </tr>\n",
       "    <tr>\n",
       "      <th>4</th>\n",
       "      <td>February 5, 2006 (2005)</td>\n",
       "      <td>Pittsburgh SteelersA</td>\n",
       "      <td>15222</td>\n",
       "      <td>ALLEGHENY</td>\n",
       "      <td>PENNSYLVANIA</td>\n",
       "      <td>42003</td>\n",
       "      <td>Seattle SeahawksN</td>\n",
       "      <td>98101</td>\n",
       "      <td>KING</td>\n",
       "      <td>WASHINGTON</td>\n",
       "      <td>53033</td>\n",
       "    </tr>\n",
       "    <tr>\n",
       "      <th>5</th>\n",
       "      <td>February 4, 2007 (2006)</td>\n",
       "      <td>Indianapolis ColtsA</td>\n",
       "      <td>46202</td>\n",
       "      <td>MARION</td>\n",
       "      <td>INDIANA</td>\n",
       "      <td>18097</td>\n",
       "      <td>Chicago BearsN</td>\n",
       "      <td>60605</td>\n",
       "      <td>COOK</td>\n",
       "      <td>ILLINOIS</td>\n",
       "      <td>17031</td>\n",
       "    </tr>\n",
       "    <tr>\n",
       "      <th>6</th>\n",
       "      <td>February 3, 2008 (2007)</td>\n",
       "      <td>New York GiantsN</td>\n",
       "      <td>10002</td>\n",
       "      <td>NEW YORK</td>\n",
       "      <td>NEW YORK</td>\n",
       "      <td>36061</td>\n",
       "      <td>New England PatriotsA</td>\n",
       "      <td>2201</td>\n",
       "      <td>SUFFOLK</td>\n",
       "      <td>MASSACHUSETTS</td>\n",
       "      <td>25025</td>\n",
       "    </tr>\n",
       "    <tr>\n",
       "      <th>7</th>\n",
       "      <td>February 1, 2009 (2008)</td>\n",
       "      <td>Pittsburgh SteelersA</td>\n",
       "      <td>15222</td>\n",
       "      <td>ALLEGHENY</td>\n",
       "      <td>PENNSYLVANIA</td>\n",
       "      <td>42003</td>\n",
       "      <td>Arizona CardinalsN</td>\n",
       "      <td>85003</td>\n",
       "      <td>MARICOPA</td>\n",
       "      <td>ARIZONA</td>\n",
       "      <td>4013</td>\n",
       "    </tr>\n",
       "    <tr>\n",
       "      <th>8</th>\n",
       "      <td>February 7, 2010 (2009)</td>\n",
       "      <td>New Orleans SaintsN</td>\n",
       "      <td>70195</td>\n",
       "      <td>ORLEANS</td>\n",
       "      <td>LOUISIANA</td>\n",
       "      <td>22071</td>\n",
       "      <td>Indianapolis ColtsA</td>\n",
       "      <td>46202</td>\n",
       "      <td>MARION</td>\n",
       "      <td>INDIANA</td>\n",
       "      <td>18097</td>\n",
       "    </tr>\n",
       "    <tr>\n",
       "      <th>9</th>\n",
       "      <td>February 6, 2011 (2010)</td>\n",
       "      <td>Green Bay PackersN</td>\n",
       "      <td>54311</td>\n",
       "      <td>BROWN</td>\n",
       "      <td>WISCONSIN</td>\n",
       "      <td>55009</td>\n",
       "      <td>Pittsburgh SteelersA</td>\n",
       "      <td>15222</td>\n",
       "      <td>ALLEGHENY</td>\n",
       "      <td>PENNSYLVANIA</td>\n",
       "      <td>42003</td>\n",
       "    </tr>\n",
       "    <tr>\n",
       "      <th>10</th>\n",
       "      <td>February 5, 2012 (2011)</td>\n",
       "      <td>New York GiantsN</td>\n",
       "      <td>10002</td>\n",
       "      <td>NEW YORK</td>\n",
       "      <td>NEW YORK</td>\n",
       "      <td>36061</td>\n",
       "      <td>New England PatriotsA</td>\n",
       "      <td>2201</td>\n",
       "      <td>SUFFOLK</td>\n",
       "      <td>MASSACHUSETTS</td>\n",
       "      <td>25025</td>\n",
       "    </tr>\n",
       "    <tr>\n",
       "      <th>11</th>\n",
       "      <td>February 3, 2013 (2012)</td>\n",
       "      <td>Baltimore RavensA</td>\n",
       "      <td>21201</td>\n",
       "      <td>Baltimore City</td>\n",
       "      <td>MARYLAND</td>\n",
       "      <td>24510</td>\n",
       "      <td>San Francisco 49ersN</td>\n",
       "      <td>94108</td>\n",
       "      <td>SAN FRANCISCO</td>\n",
       "      <td>CALIFORNIA</td>\n",
       "      <td>6075</td>\n",
       "    </tr>\n",
       "    <tr>\n",
       "      <th>12</th>\n",
       "      <td>February 2, 2014 (2013)</td>\n",
       "      <td>Seattle SeahawksN</td>\n",
       "      <td>98101</td>\n",
       "      <td>KING</td>\n",
       "      <td>WASHINGTON</td>\n",
       "      <td>53033</td>\n",
       "      <td>Denver BroncosA</td>\n",
       "      <td>80220</td>\n",
       "      <td>DENVER</td>\n",
       "      <td>COLORADO</td>\n",
       "      <td>8031</td>\n",
       "    </tr>\n",
       "    <tr>\n",
       "      <th>13</th>\n",
       "      <td>February 1, 2015 (2014)</td>\n",
       "      <td>New England PatriotsA</td>\n",
       "      <td>2201</td>\n",
       "      <td>SUFFOLK</td>\n",
       "      <td>MASSACHUSETTS</td>\n",
       "      <td>25025</td>\n",
       "      <td>Seattle SeahawksN</td>\n",
       "      <td>98101</td>\n",
       "      <td>KING</td>\n",
       "      <td>WASHINGTON</td>\n",
       "      <td>53033</td>\n",
       "    </tr>\n",
       "    <tr>\n",
       "      <th>14</th>\n",
       "      <td>February 7, 2016 (2015)</td>\n",
       "      <td>Denver BroncosA</td>\n",
       "      <td>80220</td>\n",
       "      <td>DENVER</td>\n",
       "      <td>COLORADO</td>\n",
       "      <td>8031</td>\n",
       "      <td>Carolina PanthersN</td>\n",
       "      <td>28202</td>\n",
       "      <td>MECKLENBURG</td>\n",
       "      <td>NORTH CAROLINA</td>\n",
       "      <td>37119</td>\n",
       "    </tr>\n",
       "    <tr>\n",
       "      <th>15</th>\n",
       "      <td>February 5, 2017 (2016)</td>\n",
       "      <td>New England PatriotsA</td>\n",
       "      <td>2201</td>\n",
       "      <td>SUFFOLK</td>\n",
       "      <td>MASSACHUSETTS</td>\n",
       "      <td>25025</td>\n",
       "      <td>Atlanta FalconsN</td>\n",
       "      <td>30303</td>\n",
       "      <td>FULTON</td>\n",
       "      <td>GEORGIA</td>\n",
       "      <td>13121</td>\n",
       "    </tr>\n",
       "    <tr>\n",
       "      <th>16</th>\n",
       "      <td>February 4, 2018 (2017)</td>\n",
       "      <td>Philadelphia EaglesN</td>\n",
       "      <td>19102</td>\n",
       "      <td>PHILADELPHIA</td>\n",
       "      <td>PENNSYLVANIA</td>\n",
       "      <td>42101</td>\n",
       "      <td>New England PatriotsA</td>\n",
       "      <td>2201</td>\n",
       "      <td>SUFFOLK</td>\n",
       "      <td>MASSACHUSETTS</td>\n",
       "      <td>25025</td>\n",
       "    </tr>\n",
       "    <tr>\n",
       "      <th>17</th>\n",
       "      <td>February 3, 2019 (2018)</td>\n",
       "      <td>New England PatriotsA</td>\n",
       "      <td>2201</td>\n",
       "      <td>SUFFOLK</td>\n",
       "      <td>MASSACHUSETTS</td>\n",
       "      <td>25025</td>\n",
       "      <td>Los Angeles RamsN</td>\n",
       "      <td>90013</td>\n",
       "      <td>LOS ANGELES</td>\n",
       "      <td>CALIFORNIA</td>\n",
       "      <td>6037</td>\n",
       "    </tr>\n",
       "    <tr>\n",
       "      <th>18</th>\n",
       "      <td>February 2, 2020 (2019)</td>\n",
       "      <td>Kansas City ChiefsA</td>\n",
       "      <td>64101</td>\n",
       "      <td>JACKSON</td>\n",
       "      <td>MISSOURI</td>\n",
       "      <td>29095</td>\n",
       "      <td>San Francisco 49ersN</td>\n",
       "      <td>94108</td>\n",
       "      <td>SAN FRANCISCO</td>\n",
       "      <td>CALIFORNIA</td>\n",
       "      <td>6075</td>\n",
       "    </tr>\n",
       "  </tbody>\n",
       "</table>\n",
       "</div>"
      ],
      "text/plain": [
       "                Date/Season           Winning team  Winning Zip  \\\n",
       "0   February 3, 2002 (2001)  New England PatriotsA         2201   \n",
       "1   January 26, 2003 (2002)  Tampa Bay BuccaneersN        33602   \n",
       "2   February 1, 2004 (2003)  New England PatriotsA         2201   \n",
       "3   February 6, 2005 (2004)  New England PatriotsA         2201   \n",
       "4   February 5, 2006 (2005)   Pittsburgh SteelersA        15222   \n",
       "5   February 4, 2007 (2006)    Indianapolis ColtsA        46202   \n",
       "6   February 3, 2008 (2007)       New York GiantsN        10002   \n",
       "7   February 1, 2009 (2008)   Pittsburgh SteelersA        15222   \n",
       "8   February 7, 2010 (2009)    New Orleans SaintsN        70195   \n",
       "9   February 6, 2011 (2010)     Green Bay PackersN        54311   \n",
       "10  February 5, 2012 (2011)       New York GiantsN        10002   \n",
       "11  February 3, 2013 (2012)      Baltimore RavensA        21201   \n",
       "12  February 2, 2014 (2013)      Seattle SeahawksN        98101   \n",
       "13  February 1, 2015 (2014)  New England PatriotsA         2201   \n",
       "14  February 7, 2016 (2015)        Denver BroncosA        80220   \n",
       "15  February 5, 2017 (2016)  New England PatriotsA         2201   \n",
       "16  February 4, 2018 (2017)   Philadelphia EaglesN        19102   \n",
       "17  February 3, 2019 (2018)  New England PatriotsA         2201   \n",
       "18  February 2, 2020 (2019)    Kansas City ChiefsA        64101   \n",
       "\n",
       "    Winning County  Winning State  Winning County Code            Losing team  \\\n",
       "0          SUFFOLK  MASSACHUSETTS                25025        St. Louis RamsN   \n",
       "1     HILLSBOROUGH        FLORIDA                12057       Oakland RaidersA   \n",
       "2          SUFFOLK  MASSACHUSETTS                25025     Carolina PanthersN   \n",
       "3          SUFFOLK  MASSACHUSETTS                25025   Philadelphia EaglesN   \n",
       "4        ALLEGHENY   PENNSYLVANIA                42003      Seattle SeahawksN   \n",
       "5           MARION        INDIANA                18097         Chicago BearsN   \n",
       "6         NEW YORK       NEW YORK                36061  New England PatriotsA   \n",
       "7        ALLEGHENY   PENNSYLVANIA                42003     Arizona CardinalsN   \n",
       "8          ORLEANS      LOUISIANA                22071    Indianapolis ColtsA   \n",
       "9            BROWN      WISCONSIN                55009   Pittsburgh SteelersA   \n",
       "10        NEW YORK       NEW YORK                36061  New England PatriotsA   \n",
       "11  Baltimore City       MARYLAND                24510   San Francisco 49ersN   \n",
       "12            KING     WASHINGTON                53033        Denver BroncosA   \n",
       "13         SUFFOLK  MASSACHUSETTS                25025      Seattle SeahawksN   \n",
       "14          DENVER       COLORADO                 8031     Carolina PanthersN   \n",
       "15         SUFFOLK  MASSACHUSETTS                25025       Atlanta FalconsN   \n",
       "16    PHILADELPHIA   PENNSYLVANIA                42101  New England PatriotsA   \n",
       "17         SUFFOLK  MASSACHUSETTS                25025      Los Angeles RamsN   \n",
       "18         JACKSON       MISSOURI                29095   San Francisco 49ersN   \n",
       "\n",
       "    Losing Zip     Losing County    Losing State  Losing County Code  \n",
       "0        63101  Saint Louis City        Missouri               29510  \n",
       "1        94612           ALAMEDA      CALIFORNIA                6001  \n",
       "2        28202       MECKLENBURG  NORTH CAROLINA               37119  \n",
       "3        19102      PHILADELPHIA    PENNSYLVANIA               42101  \n",
       "4        98101              KING      WASHINGTON               53033  \n",
       "5        60605              COOK        ILLINOIS               17031  \n",
       "6         2201           SUFFOLK   MASSACHUSETTS               25025  \n",
       "7        85003          MARICOPA         ARIZONA                4013  \n",
       "8        46202            MARION         INDIANA               18097  \n",
       "9        15222         ALLEGHENY    PENNSYLVANIA               42003  \n",
       "10        2201           SUFFOLK   MASSACHUSETTS               25025  \n",
       "11       94108     SAN FRANCISCO      CALIFORNIA                6075  \n",
       "12       80220            DENVER        COLORADO                8031  \n",
       "13       98101              KING      WASHINGTON               53033  \n",
       "14       28202       MECKLENBURG  NORTH CAROLINA               37119  \n",
       "15       30303            FULTON         GEORGIA               13121  \n",
       "16        2201           SUFFOLK   MASSACHUSETTS               25025  \n",
       "17       90013       LOS ANGELES      CALIFORNIA                6037  \n",
       "18       94108     SAN FRANCISCO      CALIFORNIA                6075  "
      ]
     },
     "execution_count": 88,
     "metadata": {},
     "output_type": "execute_result"
    }
   ],
   "source": [
    "df = read_data_relative_path('./data/SuperBowl/Super_Bowl_Championships.csv', data_type='csv')\n",
    "\n",
    "col_remove = ['Game', 'Score', 'Venue', 'Venue City', 'Attendance', 'Ref']\n",
    "\n",
    "df.drop(col_remove, axis=1, inplace=True)\n",
    "\n",
    "df"
   ]
  },
  {
   "cell_type": "markdown",
   "metadata": {},
   "source": [
    "### - Clean dataset, create datetime column, and calculate hypothesized birth date"
   ]
  },
  {
   "cell_type": "code",
   "execution_count": 16,
   "metadata": {},
   "outputs": [
    {
     "data": {
      "text/html": [
       "<div>\n",
       "<style scoped>\n",
       "    .dataframe tbody tr th:only-of-type {\n",
       "        vertical-align: middle;\n",
       "    }\n",
       "\n",
       "    .dataframe tbody tr th {\n",
       "        vertical-align: top;\n",
       "    }\n",
       "\n",
       "    .dataframe thead th {\n",
       "        text-align: right;\n",
       "    }\n",
       "</style>\n",
       "<table border=\"1\" class=\"dataframe\">\n",
       "  <thead>\n",
       "    <tr style=\"text-align: right;\">\n",
       "      <th></th>\n",
       "      <th>Superbowl Date</th>\n",
       "      <th>Superbowl Birth Date</th>\n",
       "      <th>Superbowl Year</th>\n",
       "      <th>Superbowl Birth Year</th>\n",
       "      <th>Superbowl Month</th>\n",
       "      <th>Superbowl Birth Month</th>\n",
       "      <th>Superbowl Day</th>\n",
       "      <th>Superbowl Birth Day</th>\n",
       "      <th>Winning County Code</th>\n",
       "      <th>Losing County Code</th>\n",
       "    </tr>\n",
       "  </thead>\n",
       "  <tbody>\n",
       "    <tr>\n",
       "      <th>0</th>\n",
       "      <td>2002-02-03</td>\n",
       "      <td>2002-10-27</td>\n",
       "      <td>2002</td>\n",
       "      <td>2002</td>\n",
       "      <td>february</td>\n",
       "      <td>October</td>\n",
       "      <td>3</td>\n",
       "      <td>27</td>\n",
       "      <td>25025</td>\n",
       "      <td>29510</td>\n",
       "    </tr>\n",
       "    <tr>\n",
       "      <th>1</th>\n",
       "      <td>2003-01-26</td>\n",
       "      <td>2003-10-19</td>\n",
       "      <td>2003</td>\n",
       "      <td>2003</td>\n",
       "      <td>january</td>\n",
       "      <td>October</td>\n",
       "      <td>26</td>\n",
       "      <td>19</td>\n",
       "      <td>12057</td>\n",
       "      <td>6001</td>\n",
       "    </tr>\n",
       "  </tbody>\n",
       "</table>\n",
       "</div>"
      ],
      "text/plain": [
       "  Superbowl Date Superbowl Birth Date Superbowl Year  Superbowl Birth Year  \\\n",
       "0     2002-02-03           2002-10-27           2002                  2002   \n",
       "1     2003-01-26           2003-10-19           2003                  2003   \n",
       "\n",
       "  Superbowl Month Superbowl Birth Month Superbowl Day  Superbowl Birth Day  \\\n",
       "0        february               October             3                   27   \n",
       "1         january               October            26                   19   \n",
       "\n",
       "   Winning County Code  Losing County Code  \n",
       "0                25025               29510  \n",
       "1                12057                6001  "
      ]
     },
     "execution_count": 16,
     "metadata": {},
     "output_type": "execute_result"
    }
   ],
   "source": [
    "# Lower case all string columns\n",
    "for col in df.columns.to_list():\n",
    "    if not str(df[col][0]).isnumeric():\n",
    "        df[col] = df[col].str.lower()\n",
    "\n",
    "# Remove N and A characters at end of team names        \n",
    "df['Winning team'] = df['Winning team'].str[:-1]\n",
    "df['Losing team'] = df['Losing team'].str[:-1]\n",
    "\n",
    "\n",
    "df[['Month', 'Day', 'Year']] = df['Date/Season'].str.split(' ', expand = True)\n",
    "df['Day'] = df['Day'].str.split(',', n=1, expand = True)\n",
    "df['Year'] = df['Year'].str.split('\\xa0', n=1, expand = True)\n",
    "\n",
    "df['Superbowl Date'] = pd.to_datetime(df['Year'].astype(str) + '-' + df['Month'].astype(str) + '-' + df['Day'].astype(str), format='%Y-%B-%d')\n",
    "\n",
    "df.rename(columns={\"Year\": \"Superbowl Year\", \"Month\": \"Superbowl Month\", \"Day\": \"Superbowl Day\"}, inplace=True)\n",
    "\n",
    "df['Superbowl Birth Date'] = df['Superbowl Date'] + pd.Timedelta(38, unit='W')\n",
    "\n",
    "df['Superbowl Birth Year'] = pd.DatetimeIndex(df['Superbowl Birth Date']).year\n",
    "\n",
    "df['Superbowl Birth Month'] = pd.DatetimeIndex(df['Superbowl Birth Date']).month_name()\n",
    "\n",
    "df['Superbowl Birth Day'] = pd.DatetimeIndex(df['Superbowl Birth Date']).day\n",
    "\n",
    "\n",
    "df = df[['Superbowl Date',\n",
    "        'Superbowl Birth Date',\n",
    "        'Superbowl Year',\n",
    "        'Superbowl Birth Year',\n",
    "        'Superbowl Month',\n",
    "        'Superbowl Birth Month',\n",
    "        'Superbowl Day',\n",
    "        'Superbowl Birth Day',\n",
    "        'Winning County Code',\n",
    "        'Losing County Code']]\n",
    "\n",
    "df.head(2)"
   ]
  },
  {
   "cell_type": "markdown",
   "metadata": {},
   "source": [
    "### - Import CDC Natality data and find data for a super bowl winner county"
   ]
  },
  {
   "cell_type": "code",
   "execution_count": 17,
   "metadata": {
    "scrolled": true
   },
   "outputs": [
    {
     "data": {
      "text/html": [
       "<div>\n",
       "<style scoped>\n",
       "    .dataframe tbody tr th:only-of-type {\n",
       "        vertical-align: middle;\n",
       "    }\n",
       "\n",
       "    .dataframe tbody tr th {\n",
       "        vertical-align: top;\n",
       "    }\n",
       "\n",
       "    .dataframe thead th {\n",
       "        text-align: right;\n",
       "    }\n",
       "</style>\n",
       "<table border=\"1\" class=\"dataframe\">\n",
       "  <thead>\n",
       "    <tr style=\"text-align: right;\">\n",
       "      <th></th>\n",
       "      <th>Birth Year</th>\n",
       "      <th>Conception Year</th>\n",
       "      <th>Conception Year Standard</th>\n",
       "      <th>Birth Month</th>\n",
       "      <th>Conception Month</th>\n",
       "      <th>Conception Month Standard</th>\n",
       "      <th>Birth Month Code</th>\n",
       "      <th>Conception Month Code</th>\n",
       "      <th>Conception Month Code Standard</th>\n",
       "      <th>Birth Date</th>\n",
       "      <th>...</th>\n",
       "      <th>Conception Date Standard</th>\n",
       "      <th>State</th>\n",
       "      <th>State Acronym</th>\n",
       "      <th>State Code</th>\n",
       "      <th>County</th>\n",
       "      <th>County Code</th>\n",
       "      <th>Births</th>\n",
       "      <th>Average Age of Mother</th>\n",
       "      <th>Average LMP Gestational Age</th>\n",
       "      <th>Notes</th>\n",
       "    </tr>\n",
       "  </thead>\n",
       "  <tbody>\n",
       "    <tr>\n",
       "      <th>105733</th>\n",
       "      <td>2018</td>\n",
       "      <td>2017</td>\n",
       "      <td>2017</td>\n",
       "      <td>January</td>\n",
       "      <td>May</td>\n",
       "      <td>April</td>\n",
       "      <td>1</td>\n",
       "      <td>5</td>\n",
       "      <td>4</td>\n",
       "      <td>2018-01-15</td>\n",
       "      <td>...</td>\n",
       "      <td>2017-05-04</td>\n",
       "      <td>Indiana</td>\n",
       "      <td>IN</td>\n",
       "      <td>18</td>\n",
       "      <td>Allen County</td>\n",
       "      <td>18003</td>\n",
       "      <td>428.0</td>\n",
       "      <td>27.45</td>\n",
       "      <td>38.45</td>\n",
       "      <td>NaN</td>\n",
       "    </tr>\n",
       "    <tr>\n",
       "      <th>40099</th>\n",
       "      <td>2008</td>\n",
       "      <td>2008</td>\n",
       "      <td>2008</td>\n",
       "      <td>November</td>\n",
       "      <td>March</td>\n",
       "      <td>February</td>\n",
       "      <td>11</td>\n",
       "      <td>3</td>\n",
       "      <td>2</td>\n",
       "      <td>2008-11-15</td>\n",
       "      <td>...</td>\n",
       "      <td>2008-03-03</td>\n",
       "      <td>California</td>\n",
       "      <td>CA</td>\n",
       "      <td>6</td>\n",
       "      <td>Stanislaus County</td>\n",
       "      <td>6099</td>\n",
       "      <td>642.0</td>\n",
       "      <td>26.93</td>\n",
       "      <td>38.64</td>\n",
       "      <td>NaN</td>\n",
       "    </tr>\n",
       "  </tbody>\n",
       "</table>\n",
       "<p>2 rows × 21 columns</p>\n",
       "</div>"
      ],
      "text/plain": [
       "        Birth Year  Conception Year  Conception Year Standard Birth Month  \\\n",
       "105733        2018             2017                      2017     January   \n",
       "40099         2008             2008                      2008    November   \n",
       "\n",
       "       Conception Month Conception Month Standard  Birth Month Code  \\\n",
       "105733              May                     April                 1   \n",
       "40099             March                  February                11   \n",
       "\n",
       "        Conception Month Code  Conception Month Code Standard Birth Date  ...  \\\n",
       "105733                      5                               4 2018-01-15  ...   \n",
       "40099                       3                               2 2008-11-15  ...   \n",
       "\n",
       "       Conception Date Standard       State State Acronym State Code  \\\n",
       "105733               2017-05-04     Indiana            IN         18   \n",
       "40099                2008-03-03  California            CA          6   \n",
       "\n",
       "                   County County Code  Births  Average Age of Mother  \\\n",
       "105733       Allen County       18003   428.0                  27.45   \n",
       "40099   Stanislaus County        6099   642.0                  26.93   \n",
       "\n",
       "        Average LMP Gestational Age  Notes  \n",
       "105733                        38.45    NaN  \n",
       "40099                         38.64    NaN  \n",
       "\n",
       "[2 rows x 21 columns]"
      ]
     },
     "execution_count": 17,
     "metadata": {},
     "output_type": "execute_result"
    }
   ],
   "source": [
    "df_CDC = read_data_relative_path('./data/CDC_Natality/2003_2018.csv', data_type='csv')\n",
    "df_CDC['Birth Date'] = pd.to_datetime(df_CDC['Birth Date'])\n",
    "df_CDC['Conception Date'] = pd.to_datetime(df_CDC['Conception Date']).dt.normalize()\n",
    "df_CDC['Conception Date Standard'] = pd.to_datetime(df_CDC['Conception Date']).dt.normalize()\n",
    "df_CDC.sample(2)"
   ]
  },
  {
   "cell_type": "code",
   "execution_count": 80,
   "metadata": {},
   "outputs": [],
   "source": [
    "def t_score(df_CDC, County_Code, Birth_Year, Birth_Month, time='month'):\n",
    "    \n",
    "    if time == 'month':\n",
    "        lst_births_null = df_CDC.loc[(df_CDC['County Code'] == cc) & (df_CDC['Birth Month Code'] == Birth_Month) & (df_CDC['Birth Year'] != Birth_Year)]['Births'].values.tolist()\n",
    "    elif time == '3_month':\n",
    "        lst_births_null = df_CDC.loc[(df_CDC['County Code'] == cc) & (df_CDC['Birth Month Code'].isin([Birth_Month-1,Birth_Month, Birth_Month+1])) & (df_CDC['Birth Year'] != Birth_Year)]['Births'].values.tolist()\n",
    "    else:\n",
    "        return print('put in month or 3_month for time')\n",
    "    \n",
    "    lst_births_alt = df_CDC.loc[(df_CDC['County Code'] == cc) & (df_CDC['Birth Month Code'] == Birth_Month) & (df_CDC['Birth Year'] == Birth_Year)]['Births'].values.tolist()\n",
    "    \n",
    "    x_bar = lst_births_alt[0]\n",
    "    mu = np.average(lst_births_null)\n",
    "    S = statistics.stdev(lst_births_null)\n",
    "    n = len(lst_births_null)\n",
    "    \n",
    "    t_score = (x_bar - mu) / (S)\n",
    "    \n",
    "    return round(t_score,3)"
   ]
  },
  {
   "cell_type": "code",
   "execution_count": 82,
   "metadata": {},
   "outputs": [
    {
     "data": {
      "text/plain": [
       "-0.424"
      ]
     },
     "execution_count": 82,
     "metadata": {},
     "output_type": "execute_result"
    }
   ],
   "source": [
    "t_score(df_CDC, County_Code=12057, Birth_Year=2003, Birth_Month=10, time='3_month')"
   ]
  },
  {
   "cell_type": "code",
   "execution_count": 86,
   "metadata": {},
   "outputs": [],
   "source": [
    "def t_score_data(df_CDC, County_Code, Birth_Year, Birth_Month, time='3_month'):\n",
    "    \n",
    "    if time == 'month':\n",
    "        lst_births_null = df_CDC.loc[(df_CDC['County Code'] == cc) & (df_CDC['Birth Month Code'] == Birth_Month) & (df_CDC['Birth Year'] != Birth_Year)]['Births'].values.tolist()\n",
    "    elif time == '3_month':\n",
    "        lst_births_null = df_CDC.loc[(df_CDC['County Code'] == cc) & (df_CDC['Birth Month Code'].isin([Birth_Month-1,Birth_Month, Birth_Month+1])) & (df_CDC['Birth Year'] != Birth_Year)]['Births'].values.tolist()\n",
    "    else:\n",
    "        return print('put in month or 3_month for time')\n",
    "    \n",
    "    lst_births_alt = df_CDC.loc[(df_CDC['County Code'] == cc) & (df_CDC['Birth Month Code'] == Birth_Month) & (df_CDC['Birth Year'] == Birth_Year)]['Births'].values.tolist()\n",
    "    \n",
    "    return lst_births_null + lst_births_alt"
   ]
  },
  {
   "cell_type": "code",
   "execution_count": 87,
   "metadata": {},
   "outputs": [
    {
     "name": "stdout",
     "output_type": "stream",
     "text": [
      "[1394.0, 1403.0, 1377.0, 1530.0, 1382.0, 1465.0, 1580.0, 1577.0, 1518.0, 1522.0, 1565.0, 1562.0, 1461.0, 1532.0, 1396.0, 1450.0, 1405.0, 1307.0, 1479.0, 1515.0, 1390.0, 1455.0, 1435.0, 1412.0, 1434.0, 1482.0, 1357.0, 1436.0, 1432.0, 1424.0, 1470.0, 1477.0, 1351.0, 1519.0, 1483.0, 1485.0, 1517.0, 1442.0, 1510.0, 1421.0, 1565.0, 1484.0, 1419.0, 1540.0, 1422.0, 1434.0]\n"
     ]
    },
    {
     "data": {
      "image/png": "[encoded data removed]",
      "text/plain": [
       "<Figure size 432x288 with 1 Axes>"
      ]
     },
     "metadata": {
      "needs_background": "light"
     },
     "output_type": "display_data"
    }
   ],
   "source": [
    "x = t_score_data(df_CDC, County_Code=12057, Birth_Year=2003, Birth_Month=10)\n",
    "\n",
    "print(x)\n",
    "\n",
    "plt.hist(x, density=True, bins=7)  # `density=False` would make counts\n",
    "plt.ylabel('Probability')\n",
    "plt.xlabel('Data');"
   ]
  },
  {
   "cell_type": "code",
   "execution_count": null,
   "metadata": {},
   "outputs": [],
   "source": []
  },
  {
   "cell_type": "code",
   "execution_count": null,
   "metadata": {},
   "outputs": [],
   "source": []
  },
  {
   "cell_type": "code",
   "execution_count": null,
   "metadata": {},
   "outputs": [],
   "source": []
  },
  {
   "cell_type": "code",
   "execution_count": 26,
   "metadata": {},
   "outputs": [
    {
     "data": {
      "text/plain": [
       "[1403.0,\n",
       " 1382.0,\n",
       " 1577.0,\n",
       " 1565.0,\n",
       " 1532.0,\n",
       " 1405.0,\n",
       " 1515.0,\n",
       " 1435.0,\n",
       " 1482.0,\n",
       " 1432.0,\n",
       " 1477.0,\n",
       " 1483.0,\n",
       " 1442.0,\n",
       " 1565.0,\n",
       " 1540.0]"
      ]
     },
     "execution_count": 26,
     "metadata": {},
     "output_type": "execute_result"
    }
   ],
   "source": [
    "# Super bowl birth date: 2003-10-19\n",
    "# County of winners: 12057\n",
    "cc = 12057\n",
    "\n",
    "df_CDC.loc[(df_CDC['County Code'] == cc) & (df_CDC['Birth Month Code'] == 10) & (df_CDC['Birth Year'] != 2003)]['Births'].values.tolist()\n",
    "df_CDC.loc[(df_CDC['County Code'] == cc) & (df_CDC['Birth Month Code'] == 10) & (df_CDC['Birth Year'] == 2003)]['Births'].values.tolist()"
   ]
  },
  {
   "cell_type": "code",
   "execution_count": null,
   "metadata": {},
   "outputs": [],
   "source": []
  },
  {
   "cell_type": "code",
   "execution_count": null,
   "metadata": {},
   "outputs": [],
   "source": []
  },
  {
   "cell_type": "code",
   "execution_count": null,
   "metadata": {},
   "outputs": [],
   "source": []
  },
  {
   "cell_type": "code",
   "execution_count": null,
   "metadata": {},
   "outputs": [],
   "source": []
  },
  {
   "cell_type": "code",
   "execution_count": null,
   "metadata": {},
   "outputs": [],
   "source": []
  },
  {
   "cell_type": "markdown",
   "metadata": {},
   "source": [
    "### - "
   ]
  },
  {
   "cell_type": "markdown",
   "metadata": {},
   "source": [
    "### - "
   ]
  },
  {
   "cell_type": "code",
   "execution_count": null,
   "metadata": {},
   "outputs": [],
   "source": []
  },
  {
   "cell_type": "markdown",
   "metadata": {},
   "source": [
    "### - "
   ]
  },
  {
   "cell_type": "code",
   "execution_count": null,
   "metadata": {},
   "outputs": [],
   "source": []
  },
  {
   "cell_type": "markdown",
   "metadata": {},
   "source": [
    "### - "
   ]
  },
  {
   "cell_type": "code",
   "execution_count": null,
   "metadata": {},
   "outputs": [],
   "source": []
  },
  {
   "cell_type": "markdown",
   "metadata": {},
   "source": [
    "### - "
   ]
  },
  {
   "cell_type": "code",
   "execution_count": null,
   "metadata": {},
   "outputs": [],
   "source": []
  },
  {
   "cell_type": "markdown",
   "metadata": {},
   "source": [
    "### - "
   ]
  },
  {
   "cell_type": "code",
   "execution_count": null,
   "metadata": {},
   "outputs": [],
   "source": []
  },
  {
   "cell_type": "markdown",
   "metadata": {},
   "source": [
    "### - "
   ]
  },
  {
   "cell_type": "code",
   "execution_count": null,
   "metadata": {},
   "outputs": [],
   "source": []
  },
  {
   "cell_type": "markdown",
   "metadata": {},
   "source": [
    "### - "
   ]
  },
  {
   "cell_type": "code",
   "execution_count": null,
   "metadata": {},
   "outputs": [],
   "source": []
  },
  {
   "cell_type": "markdown",
   "metadata": {},
   "source": [
    "### - "
   ]
  },
  {
   "cell_type": "code",
   "execution_count": null,
   "metadata": {},
   "outputs": [],
   "source": []
  },
  {
   "cell_type": "markdown",
   "metadata": {},
   "source": [
    "### - "
   ]
  },
  {
   "cell_type": "code",
   "execution_count": null,
   "metadata": {},
   "outputs": [],
   "source": []
  },
  {
   "cell_type": "markdown",
   "metadata": {},
   "source": [
    "### - "
   ]
  },
  {
   "cell_type": "code",
   "execution_count": null,
   "metadata": {},
   "outputs": [],
   "source": []
  },
  {
   "cell_type": "markdown",
   "metadata": {},
   "source": [
    "### - "
   ]
  },
  {
   "cell_type": "code",
   "execution_count": null,
   "metadata": {},
   "outputs": [],
   "source": []
  },
  {
   "cell_type": "markdown",
   "metadata": {},
   "source": [
    "### - "
   ]
  },
  {
   "cell_type": "code",
   "execution_count": null,
   "metadata": {},
   "outputs": [],
   "source": []
  },
  {
   "cell_type": "markdown",
   "metadata": {},
   "source": [
    "### - "
   ]
  },
  {
   "cell_type": "code",
   "execution_count": null,
   "metadata": {},
   "outputs": [],
   "source": []
  },
  {
   "cell_type": "markdown",
   "metadata": {},
   "source": [
    "### - "
   ]
  },
  {
   "cell_type": "code",
   "execution_count": null,
   "metadata": {},
   "outputs": [],
   "source": []
  },
  {
   "cell_type": "markdown",
   "metadata": {},
   "source": [
    "### - "
   ]
  },
  {
   "cell_type": "code",
   "execution_count": null,
   "metadata": {},
   "outputs": [],
   "source": []
  },
  {
   "cell_type": "markdown",
   "metadata": {},
   "source": [
    "### - "
   ]
  },
  {
   "cell_type": "code",
   "execution_count": null,
   "metadata": {},
   "outputs": [],
   "source": []
  },
  {
   "cell_type": "code",
   "execution_count": null,
   "metadata": {},
   "outputs": [],
   "source": []
  }
 ],
 "metadata": {
  "kernelspec": {
   "display_name": "Python 3",
   "language": "python",
   "name": "python3"
  },
  "language_info": {
   "codemirror_mode": {
    "name": "ipython",
    "version": 3
   },
   "file_extension": ".py",
   "mimetype": "text/x-python",
   "name": "python",
   "nbconvert_exporter": "python",
   "pygments_lexer": "ipython3",
   "version": "3.7.6"
  }
 },
 "nbformat": 4,
 "nbformat_minor": 4
}
