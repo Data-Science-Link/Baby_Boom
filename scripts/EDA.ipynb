{
 "cells": [
  {
   "cell_type": "code",
   "execution_count": 127,
   "metadata": {},
   "outputs": [],
   "source": [
    "import pandas as pd\n",
    "import numpy as np\n",
    "import matplotlib.pyplot as plt\n",
    "from read_path_module import read_data_relative_path\n",
    "from write_path_module import write_data_relative_path"
   ]
  },
  {
   "cell_type": "markdown",
   "metadata": {},
   "source": [
    "### - Import the dataset"
   ]
  },
  {
   "cell_type": "code",
   "execution_count": 151,
   "metadata": {},
   "outputs": [],
   "source": [
    "df = read_data_relative_path('./data/CDC_Natality/2003_2018.csv', data_type='csv')"
   ]
  },
  {
   "cell_type": "markdown",
   "metadata": {},
   "source": [
    "### - Rename columns"
   ]
  },
  {
   "cell_type": "code",
   "execution_count": 152,
   "metadata": {},
   "outputs": [],
   "source": [
    "df.rename(columns = {\n",
    "    \"Year\": \"Birth Year\",\n",
    "    \"Month\": \"Birth Month\",\n",
    "    \"Month Code\": \"Birth Month Code\"},\n",
    "         inplace = True)"
   ]
  },
  {
   "cell_type": "markdown",
   "metadata": {},
   "source": [
    "### - Remove NA rows where appropriate"
   ]
  },
  {
   "cell_type": "code",
   "execution_count": 153,
   "metadata": {},
   "outputs": [
    {
     "name": "stdout",
     "output_type": "stream",
     "text": [
      "There were  4824  Births NA rows.\n",
      "There are now  0  Births NA rows.\n"
     ]
    }
   ],
   "source": [
    "print('There were ',df['Births'].isna().sum(), ' Births NA rows.')\n",
    "\n",
    "# Remove rows where birth data is not present\n",
    "df = df[-df['Births'].isna()]\n",
    "\n",
    "print( 'There are now ', df['Births'].isna().sum(), ' Births NA rows.')"
   ]
  },
  {
   "cell_type": "code",
   "execution_count": null,
   "metadata": {},
   "outputs": [],
   "source": []
  },
  {
   "cell_type": "code",
   "execution_count": null,
   "metadata": {},
   "outputs": [],
   "source": []
  },
  {
   "cell_type": "code",
   "execution_count": null,
   "metadata": {},
   "outputs": [],
   "source": []
  },
  {
   "cell_type": "code",
   "execution_count": null,
   "metadata": {},
   "outputs": [],
   "source": []
  },
  {
   "cell_type": "markdown",
   "metadata": {},
   "source": [
    "### - Create pandas datetime column"
   ]
  },
  {
   "cell_type": "code",
   "execution_count": 154,
   "metadata": {
    "scrolled": true
   },
   "outputs": [
    {
     "data": {
      "text/html": [
       "<div>\n",
       "<style scoped>\n",
       "    .dataframe tbody tr th:only-of-type {\n",
       "        vertical-align: middle;\n",
       "    }\n",
       "\n",
       "    .dataframe tbody tr th {\n",
       "        vertical-align: top;\n",
       "    }\n",
       "\n",
       "    .dataframe thead th {\n",
       "        text-align: right;\n",
       "    }\n",
       "</style>\n",
       "<table border=\"1\" class=\"dataframe\">\n",
       "  <thead>\n",
       "    <tr style=\"text-align: right;\">\n",
       "      <th></th>\n",
       "      <th>Notes</th>\n",
       "      <th>Birth Year</th>\n",
       "      <th>Year Code</th>\n",
       "      <th>Birth Month</th>\n",
       "      <th>Birth Month Code</th>\n",
       "      <th>State</th>\n",
       "      <th>State Code</th>\n",
       "      <th>County</th>\n",
       "      <th>County Code</th>\n",
       "      <th>Births</th>\n",
       "      <th>Average Age of Mother</th>\n",
       "      <th>Average LMP Gestational Age</th>\n",
       "      <th>Birth Date</th>\n",
       "    </tr>\n",
       "  </thead>\n",
       "  <tbody>\n",
       "    <tr>\n",
       "      <th>0</th>\n",
       "      <td>NaN</td>\n",
       "      <td>2003</td>\n",
       "      <td>2003</td>\n",
       "      <td>January</td>\n",
       "      <td>1</td>\n",
       "      <td>Alabama</td>\n",
       "      <td>1</td>\n",
       "      <td>Baldwin County, AL</td>\n",
       "      <td>1003</td>\n",
       "      <td>131.0</td>\n",
       "      <td>26.77</td>\n",
       "      <td>37.97</td>\n",
       "      <td>2003-01-15</td>\n",
       "    </tr>\n",
       "    <tr>\n",
       "      <th>1</th>\n",
       "      <td>NaN</td>\n",
       "      <td>2003</td>\n",
       "      <td>2003</td>\n",
       "      <td>January</td>\n",
       "      <td>1</td>\n",
       "      <td>Alabama</td>\n",
       "      <td>1</td>\n",
       "      <td>Calhoun County, AL</td>\n",
       "      <td>1015</td>\n",
       "      <td>124.0</td>\n",
       "      <td>25.32</td>\n",
       "      <td>38.63</td>\n",
       "      <td>2003-01-15</td>\n",
       "    </tr>\n",
       "  </tbody>\n",
       "</table>\n",
       "</div>"
      ],
      "text/plain": [
       "   Notes  Birth Year  Year Code Birth Month  Birth Month Code    State  \\\n",
       "0    NaN        2003       2003     January                 1  Alabama   \n",
       "1    NaN        2003       2003     January                 1  Alabama   \n",
       "\n",
       "   State Code              County  County Code  Births  Average Age of Mother  \\\n",
       "0           1  Baldwin County, AL         1003   131.0                  26.77   \n",
       "1           1  Calhoun County, AL         1015   124.0                  25.32   \n",
       "\n",
       "   Average LMP Gestational Age Birth Date  \n",
       "0                        37.97 2003-01-15  \n",
       "1                        38.63 2003-01-15  "
      ]
     },
     "execution_count": 154,
     "metadata": {},
     "output_type": "execute_result"
    }
   ],
   "source": [
    "df['Birth Date'] = pd.to_datetime(df['Birth Year'].astype(str) + '-' + df['Birth Month Code'].astype(str) + '-' + '15', format='%Y-%m-%d')\n",
    "df.head(2)"
   ]
  },
  {
   "cell_type": "markdown",
   "metadata": {},
   "source": [
    "### - Backtrack to calculate conception date\n",
    "- At a high level\n",
    "    - A menstrual cycle starts\n",
    "    - Two weeks later ovulation occurs\n",
    "    - Sparks fly and conception occurs\n",
    "    - ~38 weeks later parents sleep cycles are forever changed...\n",
    "    \n",
    "    \n",
    "- Within the dataset LMP gestational age is given. This is the estimate of the last menstrual cycle\n",
    "\n",
    "\n",
    "- To calculate conception date we:\n",
    "    - Take date of birth (+/- 15 days) then subtract LMP Age then add 2 weeks to ovulation"
   ]
  },
  {
   "cell_type": "code",
   "execution_count": 155,
   "metadata": {
    "scrolled": true
   },
   "outputs": [
    {
     "data": {
      "text/html": [
       "<div>\n",
       "<style scoped>\n",
       "    .dataframe tbody tr th:only-of-type {\n",
       "        vertical-align: middle;\n",
       "    }\n",
       "\n",
       "    .dataframe tbody tr th {\n",
       "        vertical-align: top;\n",
       "    }\n",
       "\n",
       "    .dataframe thead th {\n",
       "        text-align: right;\n",
       "    }\n",
       "</style>\n",
       "<table border=\"1\" class=\"dataframe\">\n",
       "  <thead>\n",
       "    <tr style=\"text-align: right;\">\n",
       "      <th></th>\n",
       "      <th>Birth Date</th>\n",
       "      <th>Conception Date</th>\n",
       "    </tr>\n",
       "  </thead>\n",
       "  <tbody>\n",
       "    <tr>\n",
       "      <th>0</th>\n",
       "      <td>2003-01-15</td>\n",
       "      <td>2002-05-08 05:02:24</td>\n",
       "    </tr>\n",
       "    <tr>\n",
       "      <th>1</th>\n",
       "      <td>2003-01-15</td>\n",
       "      <td>2002-05-03 14:09:36</td>\n",
       "    </tr>\n",
       "  </tbody>\n",
       "</table>\n",
       "</div>"
      ],
      "text/plain": [
       "  Birth Date     Conception Date\n",
       "0 2003-01-15 2002-05-08 05:02:24\n",
       "1 2003-01-15 2002-05-03 14:09:36"
      ]
     },
     "execution_count": 155,
     "metadata": {},
     "output_type": "execute_result"
    }
   ],
   "source": [
    "# Transforming the gestational age into a timedelta for time arithmetic\n",
    "lst_time_intrval = [pd.Timedelta(x*7, unit='days') for x in df['Average LMP Gestational Age']]\n",
    "    \n",
    "# Date of birth - LMP Age + 2 weeks to ovulation\n",
    "df['Conception Date'] = df['Birth Date'] - pd.Series(lst_time_intrval).values + pd.Timedelta(2, unit='W')\n",
    "df[['Birth Date','Conception Date']].head(2)"
   ]
  },
  {
   "cell_type": "markdown",
   "metadata": {},
   "source": [
    "### - Create Conception Year, Month, and Month Code Columns"
   ]
  },
  {
   "cell_type": "code",
   "execution_count": 158,
   "metadata": {},
   "outputs": [],
   "source": [
    "df['Conception Year'] = pd.DatetimeIndex(df['Conception Date']).year\n",
    "df['Conception Month'] = pd.DatetimeIndex(df['Conception Date']).month_name()\n",
    "df['Conception Month Code'] = pd.DatetimeIndex(df['Conception Date']).month\n",
    "\n",
    "# Convert to integers\n",
    "col_lst = ['Conception Year', 'Conception Month Code']\n",
    "\n",
    "for col in col_lst:\n",
    "    df[col] = df[col].astype(int)"
   ]
  },
  {
   "cell_type": "markdown",
   "metadata": {},
   "source": [
    "### - Clean, reorder, and create new columns"
   ]
  },
  {
   "cell_type": "code",
   "execution_count": 159,
   "metadata": {
    "scrolled": false
   },
   "outputs": [
    {
     "data": {
      "text/html": [
       "<div>\n",
       "<style scoped>\n",
       "    .dataframe tbody tr th:only-of-type {\n",
       "        vertical-align: middle;\n",
       "    }\n",
       "\n",
       "    .dataframe tbody tr th {\n",
       "        vertical-align: top;\n",
       "    }\n",
       "\n",
       "    .dataframe thead th {\n",
       "        text-align: right;\n",
       "    }\n",
       "</style>\n",
       "<table border=\"1\" class=\"dataframe\">\n",
       "  <thead>\n",
       "    <tr style=\"text-align: right;\">\n",
       "      <th></th>\n",
       "      <th>Birth Year</th>\n",
       "      <th>Conception Year</th>\n",
       "      <th>Birth Month</th>\n",
       "      <th>Conception Month</th>\n",
       "      <th>Birth Month Code</th>\n",
       "      <th>Conception Month Code</th>\n",
       "      <th>Birth Date</th>\n",
       "      <th>Conception Date</th>\n",
       "      <th>State</th>\n",
       "      <th>State Acronym</th>\n",
       "      <th>State Code</th>\n",
       "      <th>County</th>\n",
       "      <th>County Code</th>\n",
       "      <th>Births</th>\n",
       "      <th>Average Age of Mother</th>\n",
       "      <th>Average LMP Gestational Age</th>\n",
       "      <th>Notes</th>\n",
       "    </tr>\n",
       "  </thead>\n",
       "  <tbody>\n",
       "    <tr>\n",
       "      <th>0</th>\n",
       "      <td>2003</td>\n",
       "      <td>2002</td>\n",
       "      <td>January</td>\n",
       "      <td>May</td>\n",
       "      <td>1</td>\n",
       "      <td>5</td>\n",
       "      <td>2003-01-15</td>\n",
       "      <td>2002-05-08 05:02:24</td>\n",
       "      <td>Alabama</td>\n",
       "      <td>AL</td>\n",
       "      <td>1</td>\n",
       "      <td>Baldwin County</td>\n",
       "      <td>1003</td>\n",
       "      <td>131.0</td>\n",
       "      <td>26.77</td>\n",
       "      <td>37.97</td>\n",
       "      <td>NaN</td>\n",
       "    </tr>\n",
       "    <tr>\n",
       "      <th>1</th>\n",
       "      <td>2003</td>\n",
       "      <td>2002</td>\n",
       "      <td>January</td>\n",
       "      <td>May</td>\n",
       "      <td>1</td>\n",
       "      <td>5</td>\n",
       "      <td>2003-01-15</td>\n",
       "      <td>2002-05-03 14:09:36</td>\n",
       "      <td>Alabama</td>\n",
       "      <td>AL</td>\n",
       "      <td>1</td>\n",
       "      <td>Calhoun County</td>\n",
       "      <td>1015</td>\n",
       "      <td>124.0</td>\n",
       "      <td>25.32</td>\n",
       "      <td>38.63</td>\n",
       "      <td>NaN</td>\n",
       "    </tr>\n",
       "  </tbody>\n",
       "</table>\n",
       "</div>"
      ],
      "text/plain": [
       "   Birth Year  Conception Year Birth Month Conception Month  Birth Month Code  \\\n",
       "0        2003             2002     January              May                 1   \n",
       "1        2003             2002     January              May                 1   \n",
       "\n",
       "   Conception Month Code Birth Date     Conception Date    State  \\\n",
       "0                      5 2003-01-15 2002-05-08 05:02:24  Alabama   \n",
       "1                      5 2003-01-15 2002-05-03 14:09:36  Alabama   \n",
       "\n",
       "  State Acronym  State Code          County  County Code  Births  \\\n",
       "0            AL           1  Baldwin County         1003   131.0   \n",
       "1            AL           1  Calhoun County         1015   124.0   \n",
       "\n",
       "   Average Age of Mother  Average LMP Gestational Age  Notes  \n",
       "0                  26.77                        37.97    NaN  \n",
       "1                  25.32                        38.63    NaN  "
      ]
     },
     "execution_count": 159,
     "metadata": {},
     "output_type": "execute_result"
    }
   ],
   "source": [
    "df['State Acronym'] = df['County'][0][-2:]\n",
    "df[['County','temp']] = df['County'].str.split(',', expand=True)\n",
    "df.drop(columns=['temp'], inplace=True)\n",
    "\n",
    "df.sample(3)\n",
    "\n",
    "df.columns.to_list()\n",
    "\n",
    "col_lst = ['Birth Year', 'Conception Year', 'Birth Month', 'Conception Month',\n",
    "           'Birth Month Code', 'Conception Month Code',\n",
    "           'Birth Date', 'Conception Date', 'State', 'State Acronym',\n",
    "           'State Code','County','County Code', 'Births','Average Age of Mother',\n",
    "           'Average LMP Gestational Age','Notes']\n",
    "\n",
    "df = df[col_lst]\n",
    "del col_lst\n",
    "df.head(2)"
   ]
  },
  {
   "cell_type": "markdown",
   "metadata": {},
   "source": [
    "### - Get unique list of county codes"
   ]
  },
  {
   "cell_type": "code",
   "execution_count": null,
   "metadata": {},
   "outputs": [],
   "source": [
    "lst_county_codes = list(df['County Code'].unique())"
   ]
  },
  {
   "cell_type": "markdown",
   "metadata": {},
   "source": [
    "### - Births per county over time (Line)"
   ]
  },
  {
   "cell_type": "code",
   "execution_count": null,
   "metadata": {
    "scrolled": true
   },
   "outputs": [],
   "source": [
    "def Random_County_Plotter(df, lst_county_codes, time='birth'):\n",
    "    \n",
    "    import random \n",
    "    n = random.randrange(0, len(lst_county_codes))\n",
    "    \n",
    "    df_county = df[df['County Code']==lst_county_codes[n]]\n",
    "    \n",
    "    if time.lower() == 'birth':\n",
    "        df_county.index = df_county['Birth Date']\n",
    "    else:\n",
    "        df_county.index = df_county['Conception Date']\n",
    "    \n",
    "\n",
    "    df_county['Births'].plot(figsize=(15,6), legend=True, label='Raw')\n",
    "    df_county['Births'].resample(\"2m\").median().plot(figsize=(15,6), legend=True, label='2 Month Median Resample')\n",
    "    df_county['Births'].rolling(4).median().plot(figsize=(15,6), legend=True, label='4 Month Rolling Median')\n",
    "\n",
    "    plt.xlabel('Birth Year')\n",
    "    plt.ylabel('Births')\n",
    "    plt.title(df_county['County'].to_list()[0] + ', ' + df_county['State Acronym'].to_list()[0])\n",
    "    plt.show()\n"
   ]
  },
  {
   "cell_type": "code",
   "execution_count": null,
   "metadata": {},
   "outputs": [],
   "source": [
    "Random_County_Plotter(df, lst_county_codes, time='conception')"
   ]
  },
  {
   "cell_type": "markdown",
   "metadata": {},
   "source": [
    "### - Births per county over each Birth Year (Line)"
   ]
  },
  {
   "cell_type": "code",
   "execution_count": null,
   "metadata": {},
   "outputs": [],
   "source": [
    "def Random_County_Plotter_Annual(df, lst_county_codes):\n",
    "    \n",
    "    import random \n",
    "    n = random.randrange(0, len(lst_county_codes))\n",
    "    \n",
    "    df_county = df[df['County Code']==lst_county_codes[n]]\n",
    "    \n",
    "    low = df_county['Birth Year'].min()\n",
    "    high = df_county['Birth Year'].max()\n",
    "    lst_yrs = list(range(low, high+1))\n",
    "    \n",
    "    plt.figure(figsize=(20,10))\n",
    "\n",
    "    for yr in lst_yrs:\n",
    "        x = df_county[df_county['Birth Year'] == yr]['Birth Month Code']\n",
    "        y = df_county[df_county['Birth Year'] == yr]['Births']\n",
    "        plt.plot(x,y)\n",
    "    \n",
    "    plt.xticks(x, labels=df_county['Birth Month'].unique(), rotation='45')\n",
    "    plt.ylabel('Births')\n",
    "    plt.title(df_county['County'].to_list()[0] + ', ' + df_county['State Acronym'].to_list()[0])\n",
    "    plt.show()"
   ]
  },
  {
   "cell_type": "code",
   "execution_count": null,
   "metadata": {
    "scrolled": false
   },
   "outputs": [],
   "source": [
    "Random_County_Plotter_Annual(df, lst_county_codes)"
   ]
  },
  {
   "cell_type": "markdown",
   "metadata": {},
   "source": [
    "### - Births per county over each Birth Year (Scatter)"
   ]
  },
  {
   "cell_type": "code",
   "execution_count": null,
   "metadata": {},
   "outputs": [],
   "source": [
    "def Random_County_Plotter_Scatter(df, lst_county_codes):\n",
    "    \n",
    "    import random \n",
    "    n = random.randrange(0, len(lst_county_codes))\n",
    "    \n",
    "    df_county = df[df['County Code']==lst_county_codes[n]]\n",
    "\n",
    "    x = df_county['Birth Month Code']\n",
    "    y = df_county['Births']\n",
    "    \n",
    "    plt.figure(figsize=(20,8))\n",
    "    \n",
    "    plt.scatter(x, y)\n",
    "\n",
    "    plt.xticks(x, labels=df_county['Birth Month'].unique(), rotation='45')\n",
    "    plt.xlabel('Birth Year')\n",
    "    plt.ylabel('Births')\n",
    "    plt.title(df_county['County'].to_list()[0] + ', ' + df_county['State Acronym'].to_list()[0])\n",
    "    plt.show()"
   ]
  },
  {
   "cell_type": "code",
   "execution_count": null,
   "metadata": {
    "scrolled": false
   },
   "outputs": [],
   "source": [
    "Random_County_Plotter_Scatter(df, lst_county_codes)"
   ]
  },
  {
   "cell_type": "markdown",
   "metadata": {},
   "source": [
    "### - Births per county over each Birth Year (Boxplot)"
   ]
  },
  {
   "cell_type": "code",
   "execution_count": null,
   "metadata": {},
   "outputs": [],
   "source": [
    "def Random_County_Plotter_Boxplot(df, lst_county_codes):\n",
    "    \n",
    "    import random \n",
    "    n = random.randrange(0, len(lst_county_codes))\n",
    "    \n",
    "    df_county = df[df['County Code']==lst_county_codes[n]]\n",
    "\n",
    "    \n",
    "    df_county.boxplot(column='Births', by='Birth Month Code', figsize=(15,6))\n",
    "\n",
    "    plt.xlabel('Birth Year')\n",
    "    plt.ylabel('Births')\n",
    "    plt.title(df_county['County'].to_list()[0] + ', ' + df_county['State Acronym'].to_list()[0])\n",
    "    plt.show()"
   ]
  },
  {
   "cell_type": "code",
   "execution_count": null,
   "metadata": {},
   "outputs": [],
   "source": [
    "Random_County_Plotter_Boxplot(df, lst_county_codes)"
   ]
  },
  {
   "cell_type": "code",
   "execution_count": null,
   "metadata": {},
   "outputs": [],
   "source": []
  },
  {
   "cell_type": "code",
   "execution_count": null,
   "metadata": {},
   "outputs": [],
   "source": []
  },
  {
   "cell_type": "markdown",
   "metadata": {},
   "source": [
    "### - "
   ]
  },
  {
   "cell_type": "code",
   "execution_count": null,
   "metadata": {},
   "outputs": [],
   "source": []
  },
  {
   "cell_type": "markdown",
   "metadata": {},
   "source": [
    "### - "
   ]
  },
  {
   "cell_type": "code",
   "execution_count": null,
   "metadata": {},
   "outputs": [],
   "source": []
  },
  {
   "cell_type": "markdown",
   "metadata": {},
   "source": [
    "### - "
   ]
  },
  {
   "cell_type": "code",
   "execution_count": null,
   "metadata": {},
   "outputs": [],
   "source": []
  },
  {
   "cell_type": "markdown",
   "metadata": {},
   "source": [
    "### - "
   ]
  },
  {
   "cell_type": "code",
   "execution_count": null,
   "metadata": {},
   "outputs": [],
   "source": []
  },
  {
   "cell_type": "markdown",
   "metadata": {},
   "source": [
    "### - "
   ]
  },
  {
   "cell_type": "code",
   "execution_count": null,
   "metadata": {},
   "outputs": [],
   "source": []
  },
  {
   "cell_type": "markdown",
   "metadata": {},
   "source": [
    "### - "
   ]
  },
  {
   "cell_type": "code",
   "execution_count": null,
   "metadata": {},
   "outputs": [],
   "source": []
  },
  {
   "cell_type": "markdown",
   "metadata": {},
   "source": [
    "### - "
   ]
  },
  {
   "cell_type": "code",
   "execution_count": null,
   "metadata": {},
   "outputs": [],
   "source": []
  },
  {
   "cell_type": "markdown",
   "metadata": {},
   "source": [
    "### - "
   ]
  },
  {
   "cell_type": "code",
   "execution_count": null,
   "metadata": {},
   "outputs": [],
   "source": []
  },
  {
   "cell_type": "markdown",
   "metadata": {},
   "source": [
    "### - "
   ]
  },
  {
   "cell_type": "code",
   "execution_count": null,
   "metadata": {},
   "outputs": [],
   "source": []
  },
  {
   "cell_type": "markdown",
   "metadata": {},
   "source": [
    "### - "
   ]
  },
  {
   "cell_type": "code",
   "execution_count": null,
   "metadata": {},
   "outputs": [],
   "source": []
  },
  {
   "cell_type": "markdown",
   "metadata": {},
   "source": [
    "### - "
   ]
  },
  {
   "cell_type": "code",
   "execution_count": null,
   "metadata": {},
   "outputs": [],
   "source": []
  },
  {
   "cell_type": "markdown",
   "metadata": {},
   "source": [
    "### - "
   ]
  },
  {
   "cell_type": "code",
   "execution_count": null,
   "metadata": {},
   "outputs": [],
   "source": []
  },
  {
   "cell_type": "markdown",
   "metadata": {},
   "source": [
    "### - "
   ]
  },
  {
   "cell_type": "code",
   "execution_count": null,
   "metadata": {},
   "outputs": [],
   "source": []
  },
  {
   "cell_type": "markdown",
   "metadata": {},
   "source": [
    "### - "
   ]
  },
  {
   "cell_type": "code",
   "execution_count": null,
   "metadata": {},
   "outputs": [],
   "source": []
  },
  {
   "cell_type": "markdown",
   "metadata": {},
   "source": [
    "### - "
   ]
  },
  {
   "cell_type": "code",
   "execution_count": null,
   "metadata": {},
   "outputs": [],
   "source": []
  },
  {
   "cell_type": "markdown",
   "metadata": {},
   "source": [
    "### - "
   ]
  },
  {
   "cell_type": "code",
   "execution_count": null,
   "metadata": {},
   "outputs": [],
   "source": []
  },
  {
   "cell_type": "code",
   "execution_count": null,
   "metadata": {},
   "outputs": [],
   "source": []
  }
 ],
 "metadata": {
  "kernelspec": {
   "display_name": "Python 3",
   "language": "python",
   "name": "python3"
  },
  "language_info": {
   "codemirror_mode": {
    "name": "ipython",
    "version": 3
   },
   "file_extension": ".py",
   "mimetype": "text/x-python",
   "name": "python",
   "nbconvert_exporter": "python",
   "pygments_lexer": "ipython3",
   "version": "3.7.6"
  }
 },
 "nbformat": 4,
 "nbformat_minor": 4
}
